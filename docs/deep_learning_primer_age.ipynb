{
 "cells": [
  {
   "cell_type": "markdown",
   "metadata": {},
   "source": [
    "# Arificial neural networks for age classification"
   ]
  },
  {
   "cell_type": "code",
   "execution_count": null,
   "metadata": {},
   "outputs": [],
   "source": [
    "# import packages \n",
    "import tensorflow as tf\n",
    "from tensorflow import keras\n",
    "import tensorflow_docs as tfdocs\n",
    "from keras import utils\n",
    "\n",
    "import pandas as pd\n",
    "import numpy as np\n",
    "\n",
    "\n",
    "import matplotlib.pyplot as plt\n",
    "from sklearn.preprocessing import LabelEncoder\n",
    "from sklearn.model_selection import train_test_split\n",
    "from sklearn.preprocessing import StandardScaler"
   ]
  },
  {
   "cell_type": "code",
   "execution_count": 2,
   "metadata": {},
   "outputs": [],
   "source": [
    "# Data \n",
    "df = pd.read_csv(\"/Users/mauropazmino/Documents/Learning/Deep_learning_tensor/data/MIRS_temperature_vs_age_20241014.dat\", sep=\"\\t\")\n"
   ]
  },
  {
   "cell_type": "code",
   "execution_count": 3,
   "metadata": {},
   "outputs": [
    {
     "data": {
      "text/html": [
       "<div>\n",
       "<style scoped>\n",
       "    .dataframe tbody tr th:only-of-type {\n",
       "        vertical-align: middle;\n",
       "    }\n",
       "\n",
       "    .dataframe tbody tr th {\n",
       "        vertical-align: top;\n",
       "    }\n",
       "\n",
       "    .dataframe thead th {\n",
       "        text-align: right;\n",
       "    }\n",
       "</style>\n",
       "<table border=\"1\" class=\"dataframe\">\n",
       "  <thead>\n",
       "    <tr style=\"text-align: right;\">\n",
       "      <th></th>\n",
       "      <th>Cat1</th>\n",
       "      <th>Cat2</th>\n",
       "      <th>Cat3</th>\n",
       "      <th>Cat4</th>\n",
       "      <th>Cat5</th>\n",
       "      <th>Cat6</th>\n",
       "      <th>Cat7</th>\n",
       "      <th>Cat8</th>\n",
       "      <th>Cat9</th>\n",
       "      <th>Cat10</th>\n",
       "      <th>...</th>\n",
       "      <th>420</th>\n",
       "      <th>418</th>\n",
       "      <th>416</th>\n",
       "      <th>414</th>\n",
       "      <th>412</th>\n",
       "      <th>410</th>\n",
       "      <th>408</th>\n",
       "      <th>406</th>\n",
       "      <th>404</th>\n",
       "      <th>402</th>\n",
       "    </tr>\n",
       "  </thead>\n",
       "  <tbody>\n",
       "    <tr>\n",
       "      <th>0</th>\n",
       "      <td>AC</td>\n",
       "      <td>S</td>\n",
       "      <td>0</td>\n",
       "      <td>YY</td>\n",
       "      <td>SU</td>\n",
       "      <td>T1</td>\n",
       "      <td>C1</td>\n",
       "      <td>R1</td>\n",
       "      <td>190823</td>\n",
       "      <td>111223</td>\n",
       "      <td>...</td>\n",
       "      <td>0.2321</td>\n",
       "      <td>0.2309</td>\n",
       "      <td>0.2283</td>\n",
       "      <td>0.2274</td>\n",
       "      <td>0.2275</td>\n",
       "      <td>0.2286</td>\n",
       "      <td>0.2305</td>\n",
       "      <td>0.2316</td>\n",
       "      <td>0.2323</td>\n",
       "      <td>0.2336</td>\n",
       "    </tr>\n",
       "    <tr>\n",
       "      <th>1</th>\n",
       "      <td>AC</td>\n",
       "      <td>S</td>\n",
       "      <td>0</td>\n",
       "      <td>YY</td>\n",
       "      <td>SU</td>\n",
       "      <td>T1</td>\n",
       "      <td>C1</td>\n",
       "      <td>R1</td>\n",
       "      <td>190823</td>\n",
       "      <td>111223</td>\n",
       "      <td>...</td>\n",
       "      <td>0.2223</td>\n",
       "      <td>0.2198</td>\n",
       "      <td>0.2187</td>\n",
       "      <td>0.2192</td>\n",
       "      <td>0.2195</td>\n",
       "      <td>0.2192</td>\n",
       "      <td>0.2194</td>\n",
       "      <td>0.2211</td>\n",
       "      <td>0.2225</td>\n",
       "      <td>0.2222</td>\n",
       "    </tr>\n",
       "    <tr>\n",
       "      <th>2</th>\n",
       "      <td>AC</td>\n",
       "      <td>S</td>\n",
       "      <td>0</td>\n",
       "      <td>YY</td>\n",
       "      <td>SU</td>\n",
       "      <td>T1</td>\n",
       "      <td>C1</td>\n",
       "      <td>R1</td>\n",
       "      <td>190823</td>\n",
       "      <td>111223</td>\n",
       "      <td>...</td>\n",
       "      <td>0.2040</td>\n",
       "      <td>0.2028</td>\n",
       "      <td>0.2019</td>\n",
       "      <td>0.2022</td>\n",
       "      <td>0.2037</td>\n",
       "      <td>0.2048</td>\n",
       "      <td>0.2054</td>\n",
       "      <td>0.2056</td>\n",
       "      <td>0.2047</td>\n",
       "      <td>0.2036</td>\n",
       "    </tr>\n",
       "    <tr>\n",
       "      <th>3</th>\n",
       "      <td>AC</td>\n",
       "      <td>S</td>\n",
       "      <td>0</td>\n",
       "      <td>YY</td>\n",
       "      <td>SU</td>\n",
       "      <td>T1</td>\n",
       "      <td>C1</td>\n",
       "      <td>R1</td>\n",
       "      <td>190823</td>\n",
       "      <td>111223</td>\n",
       "      <td>...</td>\n",
       "      <td>0.2409</td>\n",
       "      <td>0.2389</td>\n",
       "      <td>0.2364</td>\n",
       "      <td>0.2353</td>\n",
       "      <td>0.2360</td>\n",
       "      <td>0.2368</td>\n",
       "      <td>0.2372</td>\n",
       "      <td>0.2380</td>\n",
       "      <td>0.2390</td>\n",
       "      <td>0.2398</td>\n",
       "    </tr>\n",
       "    <tr>\n",
       "      <th>4</th>\n",
       "      <td>AC</td>\n",
       "      <td>S</td>\n",
       "      <td>0</td>\n",
       "      <td>YY</td>\n",
       "      <td>SU</td>\n",
       "      <td>T1</td>\n",
       "      <td>C1</td>\n",
       "      <td>R1</td>\n",
       "      <td>190823</td>\n",
       "      <td>111223</td>\n",
       "      <td>...</td>\n",
       "      <td>0.2150</td>\n",
       "      <td>0.2155</td>\n",
       "      <td>0.2152</td>\n",
       "      <td>0.2150</td>\n",
       "      <td>0.2154</td>\n",
       "      <td>0.2154</td>\n",
       "      <td>0.2156</td>\n",
       "      <td>0.2165</td>\n",
       "      <td>0.2181</td>\n",
       "      <td>0.2191</td>\n",
       "    </tr>\n",
       "  </tbody>\n",
       "</table>\n",
       "<p>5 rows × 1812 columns</p>\n",
       "</div>"
      ],
      "text/plain": [
       "  Cat1 Cat2  Cat3 Cat4 Cat5 Cat6 Cat7 Cat8    Cat9   Cat10  ...     420  \\\n",
       "0   AC    S     0   YY   SU   T1   C1   R1  190823  111223  ...  0.2321   \n",
       "1   AC    S     0   YY   SU   T1   C1   R1  190823  111223  ...  0.2223   \n",
       "2   AC    S     0   YY   SU   T1   C1   R1  190823  111223  ...  0.2040   \n",
       "3   AC    S     0   YY   SU   T1   C1   R1  190823  111223  ...  0.2409   \n",
       "4   AC    S     0   YY   SU   T1   C1   R1  190823  111223  ...  0.2150   \n",
       "\n",
       "      418     416     414     412     410     408     406     404     402  \n",
       "0  0.2309  0.2283  0.2274  0.2275  0.2286  0.2305  0.2316  0.2323  0.2336  \n",
       "1  0.2198  0.2187  0.2192  0.2195  0.2192  0.2194  0.2211  0.2225  0.2222  \n",
       "2  0.2028  0.2019  0.2022  0.2037  0.2048  0.2054  0.2056  0.2047  0.2036  \n",
       "3  0.2389  0.2364  0.2353  0.2360  0.2368  0.2372  0.2380  0.2390  0.2398  \n",
       "4  0.2155  0.2152  0.2150  0.2154  0.2154  0.2156  0.2165  0.2181  0.2191  \n",
       "\n",
       "[5 rows x 1812 columns]"
      ]
     },
     "execution_count": 3,
     "metadata": {},
     "output_type": "execute_result"
    }
   ],
   "source": [
    "df.head()"
   ]
  },
  {
   "cell_type": "code",
   "execution_count": 3,
   "metadata": {},
   "outputs": [],
   "source": [
    "df.rename(columns={'Cat3':'Age'}, inplace=True)"
   ]
  },
  {
   "cell_type": "code",
   "execution_count": 4,
   "metadata": {},
   "outputs": [
    {
     "data": {
      "text/plain": [
       "dtype('int64')"
      ]
     },
     "execution_count": 4,
     "metadata": {},
     "output_type": "execute_result"
    }
   ],
   "source": [
    "df['Age'].dtypes\n"
   ]
  },
  {
   "cell_type": "code",
   "execution_count": 5,
   "metadata": {},
   "outputs": [],
   "source": [
    "df_gambiae = df[df['Cat1'] == 'AG']\n",
    "df_gambiae = df_gambiae.copy()"
   ]
  },
  {
   "cell_type": "code",
   "execution_count": 6,
   "metadata": {},
   "outputs": [],
   "source": [
    "age_groups  = df_gambiae[\"Age\"]"
   ]
  },
  {
   "cell_type": "code",
   "execution_count": 7,
   "metadata": {},
   "outputs": [],
   "source": [
    "conditions = [\n",
    "(age_groups >= 0) & (age_groups <= 6),\n",
    "(age_groups > 6) & (age_groups <= 16),\n",
    "(age_groups > 16) & (age_groups <= 31)\n",
    "]\n",
    "\n",
    "choices  = [\n",
    "      \"0 - 6d\",\n",
    "      \"8 - 16d\",\n",
    "      \"18 - 31d\"\n",
    "]"
   ]
  },
  {
   "cell_type": "code",
   "execution_count": 8,
   "metadata": {},
   "outputs": [],
   "source": [
    "df_gambiae[\"Age groups\"] = np.select(conditions, choices, \"ERROR\")\n",
    "df_gambiae[\"Age gorups\"] = df_gambiae[\"Age groups\"].astype('category')"
   ]
  },
  {
   "cell_type": "code",
   "execution_count": null,
   "metadata": {},
   "outputs": [
    {
     "data": {
      "text/plain": [
       "array(['0 - 6d', '8 - 16d', '18 - 31d'], dtype=object)"
      ]
     },
     "execution_count": 9,
     "metadata": {},
     "output_type": "execute_result"
    }
   ],
   "source": [
    "#| label: agegroups\n",
    "df_gambiae['Age groups'].unique()"
   ]
  },
  {
   "cell_type": "code",
   "execution_count": null,
   "metadata": {},
   "outputs": [
    {
     "data": {
      "text/plain": [
       "<Axes: xlabel='Age groups'>"
      ]
     },
     "execution_count": 10,
     "metadata": {},
     "output_type": "execute_result"
    },
    {
     "data": {
      "image/png": "[encoded data removed]",
      "text/plain": [
       "<Figure size 640x480 with 1 Axes>"
      ]
     },
     "metadata": {},
     "output_type": "display_data"
    }
   ],
   "source": [
    "#| label: balanced\n",
    "df_gambiae.groupby('Age groups')['Cat1'].count().plot.bar()\n"
   ]
  },
  {
   "cell_type": "code",
   "execution_count": 11,
   "metadata": {},
   "outputs": [],
   "source": [
    "X = np.asarray(df_gambiae.loc[:,\"4000\":'402'])\n",
    "y = np.asarray(df_gambiae.loc[:, 'Age groups'])"
   ]
  },
  {
   "cell_type": "code",
   "execution_count": 12,
   "metadata": {},
   "outputs": [
    {
     "name": "stdout",
     "output_type": "stream",
     "text": [
      "(2820, 1800)\n",
      "(2820,)\n"
     ]
    }
   ],
   "source": [
    "print(X.shape)\n",
    "print(y.shape)"
   ]
  },
  {
   "cell_type": "code",
   "execution_count": null,
   "metadata": {},
   "outputs": [
    {
     "data": {
      "text/plain": [
       "array(['0 - 6d', '18 - 31d', '8 - 16d'], dtype=object)"
      ]
     },
     "execution_count": 27,
     "metadata": {},
     "output_type": "execute_result"
    }
   ],
   "source": [
    "#| label: encode\n",
    "# Encode the labels from 0 to n-1 classes\n",
    "encoder = LabelEncoder()\n",
    "encoded_y = encoder.fit_transform(y)\n",
    "encoder.classes_"
   ]
  },
  {
   "cell_type": "code",
   "execution_count": null,
   "metadata": {},
   "outputs": [
    {
     "name": "stdout",
     "output_type": "stream",
     "text": [
      "[[1. 0. 0.]\n",
      " [1. 0. 0.]\n",
      " [1. 0. 0.]\n",
      " ...\n",
      " [0. 1. 0.]\n",
      " [0. 1. 0.]\n",
      " [0. 1. 0.]]\n",
      "(2820, 3)\n"
     ]
    }
   ],
   "source": [
    "#| label: hotencoding\n",
    "# transform the encoded labels into a binary class matrix\n",
    "yhot = utils.to_categorical(encoded_y)\n",
    "print(yhot)\n",
    "print(yhot.shape)"
   ]
  },
  {
   "cell_type": "code",
   "execution_count": 35,
   "metadata": {},
   "outputs": [],
   "source": [
    "# Split into train and test \n",
    "X_train, X_test, y_train, y_test = train_test_split(X, yhot, shuffle=True, test_size=0.2)"
   ]
  },
  {
   "cell_type": "code",
   "execution_count": 36,
   "metadata": {},
   "outputs": [],
   "source": [
    "# Scaling train and test\n",
    "scaler = StandardScaler()\n",
    "X_train = scaler.fit_transform(X_train)\n",
    "X_test = scaler.transform(X_test)\n",
    "\n",
    "# Split it further train set into train and validation\n",
    "X_train_2, X_val, y_train_2, y_val = train_test_split(X_train, y_train, shuffle=True, test_size=0.2)"
   ]
  },
  {
   "cell_type": "code",
   "execution_count": 37,
   "metadata": {},
   "outputs": [],
   "source": [
    "# functions to eliminate part of the messages when training ANN\n",
    "def get_callbacks(name):\n",
    "  return [\n",
    "    tfdocs.modeling.EpochDots()\n",
    "  ]"
   ]
  },
  {
   "cell_type": "code",
   "execution_count": null,
   "metadata": {},
   "outputs": [],
   "source": [
    "#|label: modelage\n",
    "input_shape = [1800,]\n",
    "model = keras.Sequential()\n",
    "model.add(keras.layers.Input(shape=input_shape))\n",
    "model.add(keras.layers.Dense(500, activation='relu'))\n",
    "model.add(keras.layers.Dense(3, activation='softmax'))\n",
    "\n",
    "# compile the keras model\n",
    "model.compile(loss='categorical_crossentropy', optimizer='adam', metrics=['accuracy'])"
   ]
  },
  {
   "cell_type": "code",
   "execution_count": 39,
   "metadata": {},
   "outputs": [
    {
     "data": {
      "text/html": [
       "<pre style=\"white-space:pre;overflow-x:auto;line-height:normal;font-family:Menlo,'DejaVu Sans Mono',consolas,'Courier New',monospace\"><span style=\"font-weight: bold\">Model: \"sequential\"</span>\n",
       "</pre>\n"
      ],
      "text/plain": [
       "\u001b[1mModel: \"sequential\"\u001b[0m\n"
      ]
     },
     "metadata": {},
     "output_type": "display_data"
    },
    {
     "data": {
      "text/html": [
       "<pre style=\"white-space:pre;overflow-x:auto;line-height:normal;font-family:Menlo,'DejaVu Sans Mono',consolas,'Courier New',monospace\">┏━━━━━━━━━━━━━━━━━━━━━━━━━━━━━━━━━┳━━━━━━━━━━━━━━━━━━━━━━━━┳━━━━━━━━━━━━━━━┓\n",
       "┃<span style=\"font-weight: bold\"> Layer (type)                    </span>┃<span style=\"font-weight: bold\"> Output Shape           </span>┃<span style=\"font-weight: bold\">       Param # </span>┃\n",
       "┡━━━━━━━━━━━━━━━━━━━━━━━━━━━━━━━━━╇━━━━━━━━━━━━━━━━━━━━━━━━╇━━━━━━━━━━━━━━━┩\n",
       "│ dense (<span style=\"color: #0087ff; text-decoration-color: #0087ff\">Dense</span>)                   │ (<span style=\"color: #00d7ff; text-decoration-color: #00d7ff\">None</span>, <span style=\"color: #00af00; text-decoration-color: #00af00\">500</span>)            │       <span style=\"color: #00af00; text-decoration-color: #00af00\">900,500</span> │\n",
       "├─────────────────────────────────┼────────────────────────┼───────────────┤\n",
       "│ dense_1 (<span style=\"color: #0087ff; text-decoration-color: #0087ff\">Dense</span>)                 │ (<span style=\"color: #00d7ff; text-decoration-color: #00d7ff\">None</span>, <span style=\"color: #00af00; text-decoration-color: #00af00\">3</span>)              │         <span style=\"color: #00af00; text-decoration-color: #00af00\">1,503</span> │\n",
       "└─────────────────────────────────┴────────────────────────┴───────────────┘\n",
       "</pre>\n"
      ],
      "text/plain": [
       "┏━━━━━━━━━━━━━━━━━━━━━━━━━━━━━━━━━┳━━━━━━━━━━━━━━━━━━━━━━━━┳━━━━━━━━━━━━━━━┓\n",
       "┃\u001b[1m \u001b[0m\u001b[1mLayer (type)                   \u001b[0m\u001b[1m \u001b[0m┃\u001b[1m \u001b[0m\u001b[1mOutput Shape          \u001b[0m\u001b[1m \u001b[0m┃\u001b[1m \u001b[0m\u001b[1m      Param #\u001b[0m\u001b[1m \u001b[0m┃\n",
       "┡━━━━━━━━━━━━━━━━━━━━━━━━━━━━━━━━━╇━━━━━━━━━━━━━━━━━━━━━━━━╇━━━━━━━━━━━━━━━┩\n",
       "│ dense (\u001b[38;5;33mDense\u001b[0m)                   │ (\u001b[38;5;45mNone\u001b[0m, \u001b[38;5;34m500\u001b[0m)            │       \u001b[38;5;34m900,500\u001b[0m │\n",
       "├─────────────────────────────────┼────────────────────────┼───────────────┤\n",
       "│ dense_1 (\u001b[38;5;33mDense\u001b[0m)                 │ (\u001b[38;5;45mNone\u001b[0m, \u001b[38;5;34m3\u001b[0m)              │         \u001b[38;5;34m1,503\u001b[0m │\n",
       "└─────────────────────────────────┴────────────────────────┴───────────────┘\n"
      ]
     },
     "metadata": {},
     "output_type": "display_data"
    },
    {
     "data": {
      "text/html": [
       "<pre style=\"white-space:pre;overflow-x:auto;line-height:normal;font-family:Menlo,'DejaVu Sans Mono',consolas,'Courier New',monospace\"><span style=\"font-weight: bold\"> Total params: </span><span style=\"color: #00af00; text-decoration-color: #00af00\">902,003</span> (3.44 MB)\n",
       "</pre>\n"
      ],
      "text/plain": [
       "\u001b[1m Total params: \u001b[0m\u001b[38;5;34m902,003\u001b[0m (3.44 MB)\n"
      ]
     },
     "metadata": {},
     "output_type": "display_data"
    },
    {
     "data": {
      "text/html": [
       "<pre style=\"white-space:pre;overflow-x:auto;line-height:normal;font-family:Menlo,'DejaVu Sans Mono',consolas,'Courier New',monospace\"><span style=\"font-weight: bold\"> Trainable params: </span><span style=\"color: #00af00; text-decoration-color: #00af00\">902,003</span> (3.44 MB)\n",
       "</pre>\n"
      ],
      "text/plain": [
       "\u001b[1m Trainable params: \u001b[0m\u001b[38;5;34m902,003\u001b[0m (3.44 MB)\n"
      ]
     },
     "metadata": {},
     "output_type": "display_data"
    },
    {
     "data": {
      "text/html": [
       "<pre style=\"white-space:pre;overflow-x:auto;line-height:normal;font-family:Menlo,'DejaVu Sans Mono',consolas,'Courier New',monospace\"><span style=\"font-weight: bold\"> Non-trainable params: </span><span style=\"color: #00af00; text-decoration-color: #00af00\">0</span> (0.00 B)\n",
       "</pre>\n"
      ],
      "text/plain": [
       "\u001b[1m Non-trainable params: \u001b[0m\u001b[38;5;34m0\u001b[0m (0.00 B)\n"
      ]
     },
     "metadata": {},
     "output_type": "display_data"
    }
   ],
   "source": [
    "model.summary()"
   ]
  },
  {
   "cell_type": "code",
   "execution_count": 40,
   "metadata": {},
   "outputs": [
    {
     "name": "stdout",
     "output_type": "stream",
     "text": [
      "\n",
      "Epoch: 0, accuracy:0.4035,  loss:3.6213,  val_accuracy:0.4558,  val_loss:2.0265,  \n",
      "....................................................................................................\n",
      "Epoch: 100, accuracy:0.8941,  loss:0.2837,  val_accuracy:0.8208,  val_loss:0.4993,  \n",
      "....................................................................................................\n",
      "Epoch: 200, accuracy:0.9873,  loss:0.0769,  val_accuracy:0.8186,  val_loss:0.5021,  \n",
      "....................................................................................................\n",
      "Epoch: 300, accuracy:0.9989,  loss:0.0293,  val_accuracy:0.8584,  val_loss:0.5215,  \n",
      "....................................................................................................\n",
      "Epoch: 400, accuracy:0.9994,  loss:0.0120,  val_accuracy:0.8518,  val_loss:0.5361,  \n",
      "...................................................................................................."
     ]
    }
   ],
   "source": [
    "history = model.fit(x=X_train_2, y=y_train_2, epochs=500, batch_size=250, validation_data=[X_val, y_val],verbose=0,callbacks=get_callbacks('model_baseline'))"
   ]
  },
  {
   "cell_type": "code",
   "execution_count": null,
   "metadata": {},
   "outputs": [
    {
     "data": {
      "text/plain": [
       "(0.0, 1.5)"
      ]
     },
     "execution_count": 41,
     "metadata": {},
     "output_type": "execute_result"
    },
    {
     "data": {
      "image/png": "[encoded data removed]",
      "text/plain": [
       "<Figure size 800x500 with 2 Axes>"
      ]
     },
     "metadata": {},
     "output_type": "display_data"
    }
   ],
   "source": [
    "#|label: lossmulti\n",
    "# Check training and validation curves\n",
    "fig, (ax, ax2) = plt.subplots(1, 2, figsize=(8,5), tight_layout=True)\n",
    "loss = history.history['loss']\n",
    "val_loss = history.history['val_loss']\n",
    "epochs = range(1, len(loss) + 1)\n",
    "ax.plot(epochs, loss, 'r-', label='Training loss')\n",
    "ax.plot(epochs, val_loss, 'b--', label='Validation loss')\n",
    "ax.set_title('Training and validation loss')\n",
    "ax.set_xlabel('Epochs')\n",
    "ax.set_ylabel('Loss')\n",
    "\n",
    "acc = history.history['accuracy']\n",
    "val_acc = history.history['val_accuracy']\n",
    "ax2.plot(epochs, acc, 'r-', label='Training acc')\n",
    "ax2.plot(epochs, val_acc, 'b--', label='Validation acc')\n",
    "ax2.set_title('Training and validation accuracy')\n",
    "ax2.set_xlabel('Epochs')\n",
    "ax2.set_ylabel('Accuracy')\n",
    "\n",
    "ax.legend()\n",
    "ax2.legend()\n",
    "ax2.set_ylim(0,1.5)"
   ]
  },
  {
   "cell_type": "code",
   "execution_count": null,
   "metadata": {},
   "outputs": [
    {
     "name": "stdout",
     "output_type": "stream",
     "text": [
      "\u001b[1m18/18\u001b[0m \u001b[32m━━━━━━━━━━━━━━━━━━━━\u001b[0m\u001b[37m\u001b[0m \u001b[1m0s\u001b[0m 2ms/step - accuracy: 0.8238 - loss: 0.6882\n",
      "\u001b[1m18/18\u001b[0m \u001b[32m━━━━━━━━━━━━━━━━━━━━\u001b[0m\u001b[37m\u001b[0m \u001b[1m0s\u001b[0m 2ms/step \n"
     ]
    }
   ],
   "source": [
    "#|label: eval\n",
    "# model evaluation\n",
    "model.evaluate(X_test, y_test)\n",
    "\n",
    "# Make predictions\n",
    "y_proba = model.predict(X_test)"
   ]
  },
  {
   "cell_type": "code",
   "execution_count": null,
   "metadata": {},
   "outputs": [
    {
     "name": "stdout",
     "output_type": "stream",
     "text": [
      "[1.9061598e-07 6.7195423e-02 9.3280441e-01]\n"
     ]
    }
   ],
   "source": [
    "#|label: probasample\n",
    "# the model gave us the proability of that samples to be 0, 1 or 2 category\n",
    "print(y_proba[0])"
   ]
  },
  {
   "cell_type": "code",
   "execution_count": null,
   "metadata": {},
   "outputs": [
    {
     "data": {
      "text/plain": [
       "array([2, 2, 1, 2, 0, 0, 0, 2, 0, 2, 2, 0, 2, 1, 1, 0, 0, 1, 1, 2, 2, 0,\n",
       "       2, 2, 0, 1, 0, 0, 2, 0, 1, 1, 0, 2, 2, 0, 0, 0, 2, 0, 1, 2, 2, 2,\n",
       "       2, 1, 1, 0, 2, 2, 1, 0, 0, 0, 0, 1, 0, 2, 0, 0, 2, 0, 2, 2, 2, 0,\n",
       "       2, 2, 0, 0, 2, 0, 2, 0, 0, 2, 2, 1, 0, 2, 0, 2, 2, 2, 2, 1, 0, 2,\n",
       "       2, 1, 1, 2, 0, 2, 0, 1, 2, 0, 1, 1, 0, 1, 1, 0, 1, 2, 1, 0, 0, 2,\n",
       "       1, 1, 1, 0, 1, 0, 0, 2, 0, 2, 0, 1, 0, 0, 0, 0, 2, 1, 1, 0, 2, 1,\n",
       "       0, 1, 2, 1, 2, 0, 0, 0, 2, 2, 1, 0, 1, 2, 2, 0, 2, 2, 0, 1, 1, 1,\n",
       "       2, 0, 2, 1, 0, 0, 0, 2, 2, 1, 0, 0, 0, 1, 0, 1, 0, 0, 0, 1, 0, 2,\n",
       "       2, 1, 1, 0, 1, 1, 0, 2, 0, 0, 1, 0, 0, 2, 1, 0, 1, 0, 0, 1, 0, 2,\n",
       "       2, 0, 0, 0, 2, 2, 1, 1, 0, 0, 1, 1, 2, 0, 1, 2, 0, 0, 2, 2, 2, 0,\n",
       "       0, 1, 1, 1, 0, 1, 2, 0, 0, 0, 0, 2, 1, 0, 0, 0, 2, 1, 2, 0, 2, 0,\n",
       "       0, 2, 2, 0, 0, 0, 0, 2, 2, 1, 0, 2, 1, 2, 0, 2, 1, 0, 1, 0, 1, 1,\n",
       "       2, 2, 0, 0, 0, 2, 2, 0, 2, 0, 1, 0, 0, 1, 0, 0, 1, 2, 1, 1, 1, 0,\n",
       "       2, 0, 0, 1, 0, 0, 0, 0, 0, 0, 2, 1, 2, 0, 1, 2, 0, 2, 2, 1, 0, 0,\n",
       "       1, 1, 0, 2, 0, 2, 0, 2, 2, 0, 2, 2, 0, 1, 1, 1, 0, 0, 1, 1, 1, 1,\n",
       "       1, 2, 1, 2, 1, 2, 0, 0, 2, 2, 2, 2, 0, 2, 1, 1, 1, 1, 2, 2, 0, 0,\n",
       "       2, 2, 0, 0, 0, 2, 0, 1, 0, 2, 0, 2, 0, 2, 2, 0, 0, 1, 1, 0, 2, 2,\n",
       "       2, 0, 2, 2, 0, 1, 1, 2, 1, 0, 2, 2, 0, 2, 0, 1, 1, 1, 1, 0, 2, 1,\n",
       "       0, 0, 1, 2, 0, 2, 0, 1, 2, 0, 0, 0, 2, 0, 2, 0, 2, 2, 0, 0, 2, 0,\n",
       "       1, 2, 0, 0, 0, 2, 2, 1, 1, 2, 2, 1, 0, 2, 2, 0, 1, 0, 1, 0, 1, 2,\n",
       "       2, 1, 0, 0, 1, 2, 0, 2, 0, 2, 1, 1, 2, 0, 0, 1, 1, 0, 2, 1, 1, 2,\n",
       "       1, 0, 1, 1, 0, 1, 2, 0, 0, 0, 1, 1, 0, 0, 0, 2, 0, 0, 2, 1, 1, 2,\n",
       "       2, 1, 0, 0, 0, 0, 2, 0, 1, 0, 0, 1, 0, 0, 0, 2, 2, 1, 0, 2, 2, 2,\n",
       "       1, 2, 0, 1, 0, 1, 1, 2, 0, 1, 0, 2, 1, 2, 1, 0, 0, 2, 1, 0, 2, 0,\n",
       "       1, 0, 0, 0, 2, 2, 1, 1, 2, 2, 1, 0, 2, 0, 0, 2, 0, 1, 2, 2, 2, 2,\n",
       "       0, 0, 1, 0, 2, 0, 2, 0, 1, 0, 0, 1, 2, 0])"
      ]
     },
     "execution_count": 44,
     "metadata": {},
     "output_type": "execute_result"
    }
   ],
   "source": [
    "#|label: argmax\n",
    "# Select the index with the highest value\n",
    "y_pred = np.argmax(y_proba, axis=1) \n",
    "y_pred"
   ]
  },
  {
   "cell_type": "code",
   "execution_count": null,
   "metadata": {},
   "outputs": [],
   "source": [
    "#|label: reverse\n",
    "# reverse the encoding to obtaing the original classes\n",
    "# one way of doing is using the argument classes from the encoder and pass the indexes of the highest values of the probabilities for each class. \n",
    "y_pred_oneform = encoder.classes_[np.argmax(y_proba,axis=1)]\n",
    "\n",
    "\n",
    "# the second way is use the inverse transform function from the encoder to get the original classes\n",
    "y_pred_secform = encoder.inverse_transform(y_pred) "
   ]
  },
  {
   "cell_type": "code",
   "execution_count": null,
   "metadata": {},
   "outputs": [
    {
     "name": "stdout",
     "output_type": "stream",
     "text": [
      "8 - 16d\n",
      "8 - 16d\n"
     ]
    }
   ],
   "source": [
    "#|label: same\n",
    "# they are the same\n",
    "print(y_pred_oneform[0])\n",
    "print(y_pred_secform[0])"
   ]
  },
  {
   "cell_type": "code",
   "execution_count": null,
   "metadata": {},
   "outputs": [],
   "source": [
    "# same treatment for y_test\n",
    "y_new_test = np.argmax(y_test, axis=1)"
   ]
  },
  {
   "cell_type": "code",
   "execution_count": null,
   "metadata": {},
   "outputs": [
    {
     "data": {
      "text/plain": [
       "<sklearn.metrics._plot.confusion_matrix.ConfusionMatrixDisplay at 0x1047cdfd0>"
      ]
     },
     "execution_count": 51,
     "metadata": {},
     "output_type": "execute_result"
    },
    {
     "data": {
      "image/png": "[encoded data removed]",
      "text/plain": [
       "<Figure size 640x480 with 2 Axes>"
      ]
     },
     "metadata": {},
     "output_type": "display_data"
    }
   ],
   "source": [
    "#|label: cm\n",
    "# Confusion matrix\n",
    "\n",
    "from sklearn.metrics import ConfusionMatrixDisplay\n",
    "\n",
    "ConfusionMatrixDisplay.from_predictions(\n",
    "    y_pred=encoder.inverse_transform(y_pred),\n",
    "    y_true=encoder.inverse_transform(y_new_test),\n",
    "    normalize='true',\n",
    "    cmap='Blues',\n",
    "    im_kw={'vmin':0, 'vmax':1},\n",
    "    labels=['0 - 6d', '8 - 16d', '18 - 31d'])"
   ]
  }
 ],
 "metadata": {
  "kernelspec": {
   "display_name": ".venv",
   "language": "python",
   "name": "python3"
  },
  "language_info": {
   "codemirror_mode": {
    "name": "ipython",
    "version": 3
   },
   "file_extension": ".py",
   "mimetype": "text/x-python",
   "name": "python",
   "nbconvert_exporter": "python",
   "pygments_lexer": "ipython3",
   "version": "3.12.4"
  }
 },
 "nbformat": 4,
 "nbformat_minor": 2
}
